{
 "cells": [
  {
   "cell_type": "code",
   "execution_count": 28,
   "id": "474d1109-4822-407a-9b72-61f5228ecb3d",
   "metadata": {},
   "outputs": [],
   "source": [
    "#import Libraries\n",
    "\n",
    "from bs4 import BeautifulSoup\n",
    "import requests\n",
    "import smtplib  # Sending Emails to yourself\n",
    "import time\n",
    "import datetime\n",
    "import csv"
   ]
  },
  {
   "cell_type": "code",
   "execution_count": 54,
   "id": "15d80ff6-5615-444f-8fcc-1b9a32a1bf08",
   "metadata": {},
   "outputs": [],
   "source": [
    "# Create a CSV\n",
    "header = ['Title', 'Price','Reviews','Number_of_Reviews','Date']\n",
    "data = [title_,price_,reviews_,numOfReviews_,today]\n",
    "\n",
    "with open('AmazonTWSDataset.csv','w',newline='',encoding = 'UTF8') as f:\n",
    "    writer = csv.writer(f)\n",
    "    writer.writerow(header)\n",
    "    writer.writerow(data)\n",
    "    \n"
   ]
  },
  {
   "cell_type": "code",
   "execution_count": 55,
   "id": "4b22ddfd-1098-44e9-ab27-46250c33ca84",
   "metadata": {},
   "outputs": [],
   "source": [
    "\n",
    "def check_price():\n",
    "    \n",
    "    # Connect to Website\n",
    "    url = 'https://www.amazon.in/gp/product/B0B8YMQRFV/ref=s9_acss_bw_cg_hpcg1_3b1_w?pf_rd_m=A1K21FY43GMZF8&pf_rd_s=merchandised-search-7&pf_rd_r=KGCCAQXAPM4HP1R87VCZ&pf_rd_t=101&pf_rd_p=aec847b6-02e4-4143-aa07-5aec8be9efdc&pf_rd_i=1388921031'\n",
    "\n",
    "    headers = {\"User-Agent\": \"Mozilla/5.0 (Macintosh; Intel Mac OS X 10_15_7) AppleWebKit/537.36 (KHTML, like Gecko) Chrome/105.0.0.0 Safari/537.36 Edg/105.0.1343.33\"} \n",
    "    page = requests.get(url,headers= headers)  #Setting Page and URL to extract data\n",
    "    soupr1 = BeautifulSoup(page.content, 'html.parser') #Extracting page content in the soupr1 variable\n",
    "    soup2 = BeautifulSoup(soupr1.prettify(), 'html.parser') #Prettfying the extracted information\n",
    "    title = soup2.find(id='productTitle').get_text()\n",
    "    prict = soup2.find(id='apex_offerDisplay_desktop').get_text()\n",
    "    reviews = soup2.find(id='acrPopover').get_text()\n",
    "    numOfReviews = soup2.find(id = 'acrCustomerReviewText').get_text()\n",
    "    \n",
    "    # Strip for relevant Data\n",
    "    title_ = title.strip()\n",
    "    price_ = prict.strip()[1:10]\n",
    "    reviews_ = reviews.strip()[:3]\n",
    "    numOfReviews_ = numOfReviews.strip()[:-7].strip()\n",
    "    today = datetime.date.today()\n",
    "    \n",
    "    # Create a CSV\n",
    "    header = ['Title', 'Price','Reviews','Number_of_Reviews','Date']\n",
    "    data = [title_,price_,reviews_,numOfReviews_,today]\n",
    "\n",
    "    with open('AmazonTWSDataset.csv','a+',newline='',encoding = 'UTF8') as f:\n",
    "        writer = csv.writer(f)\n",
    "        writer.writerow(data)\n",
    "    if price_ < 15000:\n",
    "        send_email()"
   ]
  },
  {
   "cell_type": "code",
   "execution_count": 56,
   "id": "b93ad5ec-4077-48bd-bec1-a836c86bc10d",
   "metadata": {},
   "outputs": [
    {
     "ename": "KeyboardInterrupt",
     "evalue": "",
     "output_type": "error",
     "traceback": [
      "\u001b[0;31m---------------------------------------------------------------------------\u001b[0m",
      "\u001b[0;31mKeyboardInterrupt\u001b[0m                         Traceback (most recent call last)",
      "\u001b[0;32m/var/folders/f_/7pry8s655d94d_tkt9tbz15h0000gn/T/ipykernel_12351/4212351095.py\u001b[0m in \u001b[0;36m<module>\u001b[0;34m\u001b[0m\n\u001b[1;32m      1\u001b[0m \u001b[0;32mwhile\u001b[0m\u001b[0;34m(\u001b[0m\u001b[0;32mTrue\u001b[0m\u001b[0;34m)\u001b[0m\u001b[0;34m:\u001b[0m\u001b[0;34m\u001b[0m\u001b[0;34m\u001b[0m\u001b[0m\n\u001b[1;32m      2\u001b[0m     \u001b[0mcheck_price\u001b[0m\u001b[0;34m(\u001b[0m\u001b[0;34m)\u001b[0m\u001b[0;34m\u001b[0m\u001b[0;34m\u001b[0m\u001b[0m\n\u001b[0;32m----> 3\u001b[0;31m     \u001b[0mtime\u001b[0m\u001b[0;34m.\u001b[0m\u001b[0msleep\u001b[0m\u001b[0;34m(\u001b[0m\u001b[0;36m5\u001b[0m\u001b[0;34m)\u001b[0m\u001b[0;34m\u001b[0m\u001b[0;34m\u001b[0m\u001b[0m\n\u001b[0m",
      "\u001b[0;31mKeyboardInterrupt\u001b[0m: "
     ]
    }
   ],
   "source": [
    "while(True):\n",
    "    check_price()\n",
    "    time.sleep(5)"
   ]
  },
  {
   "cell_type": "code",
   "execution_count": null,
   "id": "dbcdcb45-840d-470e-9cd1-704d66762e22",
   "metadata": {},
   "outputs": [],
   "source": [
    "#Sending Email\n",
    "def send_email()"
   ]
  }
 ],
 "metadata": {
  "kernelspec": {
   "display_name": "Python 3 (ipykernel)",
   "language": "python",
   "name": "python3"
  },
  "language_info": {
   "codemirror_mode": {
    "name": "ipython",
    "version": 3
   },
   "file_extension": ".py",
   "mimetype": "text/x-python",
   "name": "python",
   "nbconvert_exporter": "python",
   "pygments_lexer": "ipython3",
   "version": "3.9.7"
  }
 },
 "nbformat": 4,
 "nbformat_minor": 5
}
